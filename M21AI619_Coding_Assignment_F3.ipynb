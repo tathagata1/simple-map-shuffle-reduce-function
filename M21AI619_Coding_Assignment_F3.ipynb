{
  "cells": [
    {
      "cell_type": "markdown",
      "metadata": {},
      "source": [
        "# Tathagata Mookherjee<br>\n",
        "ROLL NUMBER - M21AI619<br>\n",
        "CSL7630: Algorithms for Big Data, F3, Coding Assignment 1<br>\n",
        "IIT JODHPUR<br>"
      ]
    },
    {
      "cell_type": "markdown",
      "metadata": {},
      "source": [
        "A dataset of visitors to Obama is available on (https://obamawhitehouse.archives.gov/briefingroom/disclosures/visitor-records) in the form of csv files. Take a small csv file and find these details:"
      ]
    },
    {
      "cell_type": "markdown",
      "metadata": {},
      "source": [
        "this entire block does the required initializations and contains the basic functions"
      ]
    },
    {
      "cell_type": "code",
      "execution_count": 1,
      "metadata": {},
      "outputs": [],
      "source": [
        "import warnings\n",
        "warnings.filterwarnings(\"ignore\")\n",
        "import pandas as pd\n",
        "import os\n",
        "\n",
        "def write_ans_file(var_ans='default_ans'):\n",
        "    file='answer.M21AI619.txt'\n",
        "    with open(file, 'a') as f:\n",
        "        f.write(\"{0}\\n\".format(var_ans))\n",
        "\n",
        "df = pd.read_csv('whitehouse_waves-2016_12.csv', encoding='ISO-8859-1')"
      ]
    },
    {
      "cell_type": "markdown",
      "metadata": {},
      "source": [
        "data preprocessing"
      ]
    },
    {
      "cell_type": "code",
      "execution_count": 2,
      "metadata": {},
      "outputs": [],
      "source": [
        "#correct the date formatting and applying transformations\n",
        "df['APPT_MADE_DATE'] = df['APPT_MADE_DATE'].str.replace('/','-')\n",
        "df[['APPT_MADE', 'B']] = df['APPT_MADE_DATE'].str.split(' ', 1, expand=True)\n",
        "df['APPT_START_DATE'] = df['APPT_START_DATE'].str.replace('/','-')\n",
        "df[['APPT_START', 'A']] = df['APPT_START_DATE'].str.split(' ', 1, expand=True)\n",
        "df['APPT_CANCEL_DATE'] = df['APPT_CANCEL_DATE'].str.replace('/','-')\n",
        "df[['APPT_CANCEL', 'B']] = df['APPT_CANCEL_DATE'].str.split(' ', 1, expand=True)\n",
        "df['VIS_NAME'] = df['visitee_namefirst'] + ' ' + df['visitee_namelast']\n",
        "df['VIS_NAME'] = df['VIS_NAME'].str.upper()"
      ]
    },
    {
      "cell_type": "markdown",
      "metadata": {},
      "source": [
        "map-reduce functions"
      ]
    },
    {
      "cell_type": "code",
      "execution_count": 3,
      "metadata": {},
      "outputs": [],
      "source": [
        "#takes a dataframe and returns a mapped 2D list\n",
        "def do_splitting_mapping(input_df):\n",
        "    var_freq = []\n",
        "    for name in input_df:\n",
        "        var_freq.append([name,1])\n",
        "    return var_freq\n",
        "\n",
        "#takes a 2D list and returns a 2D list with reduced counts\n",
        "def do_shuffle_reduce(input_list_2d):\n",
        "    outer_name_list=[]\n",
        "    var_out = []\n",
        "    inner_list=input_list_2d\n",
        "    for key in input_list_2d:\n",
        "        name=key[0]\n",
        "        if name not in outer_name_list:\n",
        "            outer_name_list.append(name)\n",
        "    for name in outer_name_list:\n",
        "        counter_list=0\n",
        "        for inner_key in inner_list:\n",
        "            inner_name=inner_key[0]\n",
        "            inner_count=inner_key[1]\n",
        "            if inner_name == name:\n",
        "                counter_list += inner_count\n",
        "        var_out.append([name,counter_list])\n",
        "    return var_out"
      ]
    },
    {
      "cell_type": "markdown",
      "metadata": {},
      "source": [
        "a. Total number of visitors"
      ]
    },
    {
      "cell_type": "code",
      "execution_count": 4,
      "metadata": {},
      "outputs": [
        {
          "name": "stdout",
          "output_type": "stream",
          "text": [
            "a. Total number of visitors: 908699\n"
          ]
        }
      ],
      "source": [
        "var_name_list=do_splitting_mapping(df['VIS_NAME'])\n",
        "\n",
        "var_name_counts=do_shuffle_reduce(var_name_list)\n",
        "\n",
        "var_tnv=0\n",
        "for it_count in var_name_counts:\n",
        "    var_tnv += it_count[1]\n",
        "\n",
        "print('a. Total number of visitors: '+str(var_tnv))"
      ]
    },
    {
      "cell_type": "markdown",
      "metadata": {},
      "source": [
        "b. Number of visitors every day"
      ]
    },
    {
      "cell_type": "code",
      "execution_count": 5,
      "metadata": {},
      "outputs": [],
      "source": [
        "var_start_list=do_splitting_mapping(df['APPT_START'])\n",
        "\n",
        "var_start_counts=do_shuffle_reduce(var_start_list)\n",
        "\n",
        "for it_count in var_start_counts:\n",
        "    write_ans_file('b. Number of visitors on: '+str(it_count[0])+' is '+str(it_count[1]))"
      ]
    },
    {
      "cell_type": "markdown",
      "metadata": {},
      "source": [
        "c. Average number of visitors."
      ]
    },
    {
      "cell_type": "code",
      "execution_count": 6,
      "metadata": {},
      "outputs": [
        {
          "name": "stdout",
          "output_type": "stream",
          "text": [
            "c. Average number of visitors: 160.1796227745461\n"
          ]
        }
      ],
      "source": [
        "var_v_counter=0\n",
        "var_v_total=0\n",
        "for it_count in var_name_counts:\n",
        "    var_v_counter += 1\n",
        "    var_v_total += it_count[1]\n",
        "print('c. Average number of visitors: '+str(var_v_total/var_v_counter))"
      ]
    },
    {
      "cell_type": "markdown",
      "metadata": {},
      "source": [
        "d. Appointments made per day"
      ]
    },
    {
      "cell_type": "code",
      "execution_count": 7,
      "metadata": {},
      "outputs": [],
      "source": [
        "var_made_list=do_splitting_mapping(df['APPT_MADE'])\n",
        "\n",
        "var_made_counts=do_shuffle_reduce(var_made_list)\n",
        "\n",
        "for it_count in var_made_counts:\n",
        "    write_ans_file('d. Appointment made on: '+str(it_count[0])+' is '+str(it_count[1]))"
      ]
    },
    {
      "cell_type": "markdown",
      "metadata": {},
      "source": [
        "e. Average appointments made per day"
      ]
    },
    {
      "cell_type": "code",
      "execution_count": 8,
      "metadata": {},
      "outputs": [
        {
          "name": "stdout",
          "output_type": "stream",
          "text": [
            "e. Average number of appointments per day: 2421.7593984962405\n"
          ]
        }
      ],
      "source": [
        "var_v_counter=0\n",
        "var_v_total=0\n",
        "for it_count in var_made_counts:\n",
        "    var_v_counter += 1\n",
        "    var_v_total += it_count[1]\n",
        "print('e. Average number of appointments per day: '+str(var_v_total/var_v_counter))"
      ]
    },
    {
      "cell_type": "markdown",
      "metadata": {},
      "source": [
        "f. Appointments canceled per day"
      ]
    },
    {
      "cell_type": "code",
      "execution_count": 9,
      "metadata": {},
      "outputs": [],
      "source": [
        "var_cancel_list=do_splitting_mapping(df['APPT_CANCEL'])\n",
        "\n",
        "var_cancel_counts=do_shuffle_reduce(var_cancel_list)\n",
        "\n",
        "for it_count in var_cancel_counts:\n",
        "    write_ans_file('f. Appointment cancelled on: '+str(it_count[0])+' is '+str(it_count[1]))"
      ]
    },
    {
      "cell_type": "markdown",
      "metadata": {},
      "source": [
        "g. Average appointments canceled per day"
      ]
    },
    {
      "cell_type": "code",
      "execution_count": 10,
      "metadata": {},
      "outputs": [
        {
          "name": "stdout",
          "output_type": "stream",
          "text": [
            "g. Average number of appointments cancelled per day: 101.98918918918919\n"
          ]
        }
      ],
      "source": [
        "var_v_counter=0\n",
        "var_v_total=0\n",
        "for it_count in var_cancel_counts:\n",
        "    var_v_counter += 1\n",
        "    var_v_total += it_count[1]\n",
        "print('g. Average number of appointments cancelled per day: '+str(var_v_total/var_v_counter))"
      ]
    },
    {
      "cell_type": "markdown",
      "metadata": {},
      "source": [
        "h. Visitors and count of their visits"
      ]
    },
    {
      "cell_type": "code",
      "execution_count": 11,
      "metadata": {},
      "outputs": [],
      "source": [
        "for it_count in var_name_counts:\n",
        "    write_ans_file('h. Count for visitor: '+str(it_count[0])+' is '+str(it_count[1]))"
      ]
    }
  ],
  "metadata": {
    "colab": {
      "name": "Perceptron_ML_1_F_3.ipynb",
      "provenance": []
    },
    "interpreter": {
      "hash": "6fcc7172de257621d7e3790d8e8a7b2fc25107ff8bf6510cb6aa39041638a7cf"
    },
    "kernelspec": {
      "display_name": "Python 3.8.10 64-bit",
      "language": "python",
      "name": "python3"
    },
    "language_info": {
      "codemirror_mode": {
        "name": "ipython",
        "version": 3
      },
      "file_extension": ".py",
      "mimetype": "text/x-python",
      "name": "python",
      "nbconvert_exporter": "python",
      "pygments_lexer": "ipython3",
      "version": "3.8.10"
    }
  },
  "nbformat": 4,
  "nbformat_minor": 0
}
